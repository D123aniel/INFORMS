{
 "cells": [
  {
   "cell_type": "code",
   "execution_count": 28,
   "metadata": {},
   "outputs": [],
   "source": [
    "import pandas as pd"
   ]
  },
  {
   "cell_type": "code",
   "execution_count": 29,
   "metadata": {},
   "outputs": [],
   "source": [
    "data = pd.read_csv('data/courier_wave_info_meituan.csv')"
   ]
  },
  {
   "cell_type": "code",
   "execution_count": 30,
   "metadata": {},
   "outputs": [
    {
     "data": {
      "application/vnd.microsoft.datawrangler.viewer.v0+json": {
       "columns": [
        {
         "name": "index",
         "rawType": "int64",
         "type": "integer"
        },
        {
         "name": "dt",
         "rawType": "int64",
         "type": "integer"
        },
        {
         "name": "courier_id",
         "rawType": "int64",
         "type": "integer"
        },
        {
         "name": "wave_id",
         "rawType": "int64",
         "type": "integer"
        },
        {
         "name": "wave_start_time",
         "rawType": "int64",
         "type": "integer"
        },
        {
         "name": "wave_end_time",
         "rawType": "int64",
         "type": "integer"
        },
        {
         "name": "order_ids",
         "rawType": "object",
         "type": "string"
        }
       ],
       "conversionMethod": "pd.DataFrame",
       "ref": "e4e64883-7dbd-43a7-9c6f-fe73d347df3f",
       "rows": [
        [
         "0",
         "20221017",
         "0",
         "1",
         "1666015199",
         "1666016427",
         "[171478]"
        ],
        [
         "1",
         "20221017",
         "0",
         "2",
         "1666019273",
         "1666020782",
         "[116902]"
        ],
        [
         "2",
         "20221017",
         "1",
         "1",
         "1665936737",
         "1665937798",
         "[1]"
        ],
        [
         "3",
         "20221017",
         "1",
         "2",
         "1665976317",
         "1665979643",
         "[264834, 107524, 334962, 125682, 493460]"
        ],
        [
         "4",
         "20221017",
         "2",
         "1",
         "1665938277",
         "1665939955",
         "[264776, 2, 398099, 389973]"
        ]
       ],
       "shape": {
        "columns": 6,
        "rows": 5
       }
      },
      "text/html": [
       "<div>\n",
       "<style scoped>\n",
       "    .dataframe tbody tr th:only-of-type {\n",
       "        vertical-align: middle;\n",
       "    }\n",
       "\n",
       "    .dataframe tbody tr th {\n",
       "        vertical-align: top;\n",
       "    }\n",
       "\n",
       "    .dataframe thead th {\n",
       "        text-align: right;\n",
       "    }\n",
       "</style>\n",
       "<table border=\"1\" class=\"dataframe\">\n",
       "  <thead>\n",
       "    <tr style=\"text-align: right;\">\n",
       "      <th></th>\n",
       "      <th>dt</th>\n",
       "      <th>courier_id</th>\n",
       "      <th>wave_id</th>\n",
       "      <th>wave_start_time</th>\n",
       "      <th>wave_end_time</th>\n",
       "      <th>order_ids</th>\n",
       "    </tr>\n",
       "  </thead>\n",
       "  <tbody>\n",
       "    <tr>\n",
       "      <th>0</th>\n",
       "      <td>20221017</td>\n",
       "      <td>0</td>\n",
       "      <td>1</td>\n",
       "      <td>1666015199</td>\n",
       "      <td>1666016427</td>\n",
       "      <td>[171478]</td>\n",
       "    </tr>\n",
       "    <tr>\n",
       "      <th>1</th>\n",
       "      <td>20221017</td>\n",
       "      <td>0</td>\n",
       "      <td>2</td>\n",
       "      <td>1666019273</td>\n",
       "      <td>1666020782</td>\n",
       "      <td>[116902]</td>\n",
       "    </tr>\n",
       "    <tr>\n",
       "      <th>2</th>\n",
       "      <td>20221017</td>\n",
       "      <td>1</td>\n",
       "      <td>1</td>\n",
       "      <td>1665936737</td>\n",
       "      <td>1665937798</td>\n",
       "      <td>[1]</td>\n",
       "    </tr>\n",
       "    <tr>\n",
       "      <th>3</th>\n",
       "      <td>20221017</td>\n",
       "      <td>1</td>\n",
       "      <td>2</td>\n",
       "      <td>1665976317</td>\n",
       "      <td>1665979643</td>\n",
       "      <td>[264834, 107524, 334962, 125682, 493460]</td>\n",
       "    </tr>\n",
       "    <tr>\n",
       "      <th>4</th>\n",
       "      <td>20221017</td>\n",
       "      <td>2</td>\n",
       "      <td>1</td>\n",
       "      <td>1665938277</td>\n",
       "      <td>1665939955</td>\n",
       "      <td>[264776, 2, 398099, 389973]</td>\n",
       "    </tr>\n",
       "  </tbody>\n",
       "</table>\n",
       "</div>"
      ],
      "text/plain": [
       "         dt  courier_id  wave_id  wave_start_time  wave_end_time  \\\n",
       "0  20221017           0        1       1666015199     1666016427   \n",
       "1  20221017           0        2       1666019273     1666020782   \n",
       "2  20221017           1        1       1665936737     1665937798   \n",
       "3  20221017           1        2       1665976317     1665979643   \n",
       "4  20221017           2        1       1665938277     1665939955   \n",
       "\n",
       "                                  order_ids  \n",
       "0                                  [171478]  \n",
       "1                                  [116902]  \n",
       "2                                       [1]  \n",
       "3  [264834, 107524, 334962, 125682, 493460]  \n",
       "4               [264776, 2, 398099, 389973]  "
      ]
     },
     "execution_count": 30,
     "metadata": {},
     "output_type": "execute_result"
    }
   ],
   "source": [
    "data.head(5)"
   ]
  },
  {
   "cell_type": "markdown",
   "metadata": {},
   "source": [
    "# Data description \n",
    "dt: Date of order creation \\\n",
    "courier_id: id of the courier \\\n",
    "wave_id: id of order wave \\\n",
    "wave_start_time: unix time when the first order in the wave is accepted \\\n",
    "wave_end_time: unix time when the last order in the wave is delivered \\\n",
    "order_ids: Set of order ids in the particular wave"
   ]
  },
  {
   "cell_type": "code",
   "execution_count": 31,
   "metadata": {},
   "outputs": [
    {
     "name": "stdout",
     "output_type": "stream",
     "text": [
      "wave_id\n",
      "1     28923\n",
      "2     27179\n",
      "3     24881\n",
      "4     22288\n",
      "5     19651\n",
      "6     16942\n",
      "7     14362\n",
      "8     11943\n",
      "9      9689\n",
      "10     7730\n",
      "11     6010\n",
      "12     4612\n",
      "13     3496\n",
      "14     2575\n",
      "15     1899\n",
      "16     1377\n",
      "17      964\n",
      "18      686\n",
      "19      498\n",
      "20      344\n",
      "21      240\n",
      "22      158\n",
      "23      110\n",
      "24       67\n",
      "25       46\n",
      "26       30\n",
      "27       18\n",
      "28        9\n",
      "29        6\n",
      "30        5\n",
      "31        4\n",
      "32        2\n",
      "33        2\n",
      "34        2\n",
      "dtype: int64\n"
     ]
    }
   ],
   "source": [
    "testing = data.head(5000)\n",
    "# groupby wave_id and print how mnay orders are there in each wave\n",
    "print(data.groupby('wave_id').size())"
   ]
  },
  {
   "cell_type": "code",
   "execution_count": null,
   "metadata": {},
   "outputs": [],
   "source": []
  }
 ],
 "metadata": {
  "kernelspec": {
   "display_name": "Python 3",
   "language": "python",
   "name": "python3"
  },
  "language_info": {
   "codemirror_mode": {
    "name": "ipython",
    "version": 3
   },
   "file_extension": ".py",
   "mimetype": "text/x-python",
   "name": "python",
   "nbconvert_exporter": "python",
   "pygments_lexer": "ipython3",
   "version": "3.13.1"
  }
 },
 "nbformat": 4,
 "nbformat_minor": 2
}
